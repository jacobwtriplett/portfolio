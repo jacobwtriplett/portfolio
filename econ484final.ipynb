{
  "nbformat": 4,
  "nbformat_minor": 0,
  "metadata": {
    "colab": {
      "name": "econ484final.ipynb",
      "provenance": [],
      "collapsed_sections": []
    },
    "kernelspec": {
      "name": "python3",
      "display_name": "Python 3"
    }
  },
  "cells": [
    {
      "cell_type": "markdown",
      "metadata": {
        "id": "EbV7CV3Pz2st"
      },
      "source": [
        "## The Question"
      ]
    },
    {
      "cell_type": "markdown",
      "metadata": {
        "id": "MkCjCsX9WM9g"
      },
      "source": [
        "An important question in criminal justice is whether detaining defendants while they await trial affects their ultimate probability of conviction. In this final exam you will use machine learning to estimate the causal effect of pre-trial detention on conviction. In the [shared Econ 484 Google Drive \"datasets\" folder](https://drive.google.com/drive/folders/1gAPP5E0zb4XRd8Ey9eyJ48IIlCCutU9c?usp=sharing) you will find a dataset called \"miami_example.csv\" and the associated codebook \"miami_defs.txt\" that gives some information about each of the variables. The outcome variable is the indicator for conviction. The treatment variable is an indicator pre-trial detention. Possible instrumental variables are dummy variables for each judge. You will have to create the dummy variables from the judge id variable. Additional covariates are age, gender, race, prior offender indicator, number of counts, and indicators for type of crimes in the current charge."
      ]
    },
    {
      "cell_type": "markdown",
      "metadata": {
        "id": "BlRWfRg-0HUe"
      },
      "source": [
        "## The Task"
      ]
    },
    {
      "cell_type": "markdown",
      "metadata": {
        "id": "-WfUoTft0L2i"
      },
      "source": [
        "Estimate the causal effect of pre-trial detention on conviction in two ways:\n",
        "\n",
        "1) Via OLS regression where you use machine learning to control for the additional covariates.\n",
        "\n",
        "2) Via instrumental variables regression using dummy variables for bail judge  as instruments for pre-trial detention where you use machine learning to address the problems that can arise with many instruments (there are 166 judges). "
      ]
    },
    {
      "cell_type": "code",
      "source": [
        "# mount drive for access to data\n",
        "from google.colab import drive\n",
        "drive.mount('/content/drive/')\n",
        "\n",
        "# import necessary packages\n",
        "import pandas as pd\n",
        "from numpy import mean, ravel\n",
        "from sklearn.preprocessing import MinMaxScaler\n",
        "from sklearn.model_selection import KFold, GridSearchCV\n",
        "from sklearn.linear_model import Ridge, RidgeCV, LinearRegression\n",
        "from sklearn.neural_network import MLPRegressor\n",
        "\n",
        "# load in data, assuming NaNs are random\n",
        "dataset = pd.read_csv('/content/drive/MyDrive/Econ 484/miami_example.csv')\n",
        "dataset = dataset.dropna()\n",
        "\n",
        "# generate y (outcome), d (treatment), x (controls) arrays\n",
        "y = dataset[['any_guilty']]\n",
        "d = dataset[['detained']]\n",
        "x = dataset.drop(['any_guilty', 'detained'], axis=1)"
      ],
      "metadata": {
        "id": "eahsCslbftgm",
        "colab": {
          "base_uri": "https://localhost:8080/"
        },
        "outputId": "72bf1e16-3e20-4faa-cd33-27d2c81bde42"
      },
      "execution_count": null,
      "outputs": [
        {
          "output_type": "stream",
          "name": "stdout",
          "text": [
            "Drive already mounted at /content/drive/; to attempt to forcibly remount, call drive.mount(\"/content/drive/\", force_remount=True).\n"
          ]
        }
      ]
    },
    {
      "cell_type": "code",
      "source": [
        "# 1) Via OLS regression with ML to control additional covariates\n",
        "# METHOD: DDML (using Ridge) with sample splitting\n",
        "\n",
        "# cross validate to find best parameters\n",
        "y_alpha = RidgeCV().fit(x, y).alpha_\n",
        "d_alpha = RidgeCV().fit(x, d).alpha_\n",
        "\n",
        "# Sample splitting: predict residuals for y, d using x for each split\n",
        "y_hats = []\n",
        "d_hats = []\n",
        "kf = KFold(2).split(dataset)\n",
        "for train, test in kf:\n",
        "  y_hat = Ridge(y_alpha).fit(x.iloc[train], y.iloc[train]).predict(x.iloc[test])\n",
        "  y_hats.append(y_hat)\n",
        "\n",
        "  d_hat = Ridge(d_alpha).fit(x.iloc[train], d.iloc[train]).predict(x.iloc[test])\n",
        "  d_hats.append(d_hat)\n",
        "\n",
        "# generate ytilde & dtilde by subtracting off residual's mean\n",
        "ytilde = y - mean(y_hats)\n",
        "dtilde = d - mean(d_hats)\n",
        "\n",
        "# estimate the causal effect using OLS regression\n",
        "ddml_beta = LinearRegression().fit(dtilde, ytilde).coef_\n",
        "\n",
        "print('The DDML-estimated causal effect of pre-trial detention on conviction is {:.4}'.format(ddml_beta.item()))"
      ],
      "metadata": {
        "id": "ZijMjX6lhaj4",
        "colab": {
          "base_uri": "https://localhost:8080/"
        },
        "outputId": "453f2cd6-bd08-46a7-fb4b-15c02611737f"
      },
      "execution_count": null,
      "outputs": [
        {
          "output_type": "stream",
          "name": "stdout",
          "text": [
            "The DDML-estimated causal effect of pre-trial detention on conviction is 0.2586\n"
          ]
        }
      ]
    },
    {
      "cell_type": "code",
      "source": [
        "# 2) Via IV with ML to control for many instruments\n",
        "# METHOD: ML-augmented instrumental variables\n",
        "\n",
        "# create instruments: dummy variables for judgeid\n",
        "judgeid = pd.get_dummies(x['judgeid'])\n",
        "\n",
        "# cross validate to find best parameters\n",
        "net = MLPRegressor(max_iter=30)\n",
        "param_grid = {'hidden_layer_sizes':[(2,), (10,), (25,)], \n",
        "              'activation':['relu', 'logistic']}\n",
        "gridsearch = GridSearchCV(net, param_grid)\n",
        "\n",
        "# predict d using net with best parameters\n",
        "d_hat = gridsearch.fit(judgeid, ravel(d)).predict(judgeid).reshape(-1,1)\n",
        "\n",
        "# estimate the causal effect using 2SLS IV with d_hat as single instrument\n",
        "firststage = LinearRegression().fit(d_hat, d).predict(d_hat).reshape(-1,1)\n",
        "secondstage = LinearRegression().fit(firststage, y)\n",
        "iv_beta = secondstage.coef_\n",
        "\n",
        "print('The ML-augmented IV causal effect of pre-trial detention on conviction is {:.4}'.format(iv_beta.item()))"
      ],
      "metadata": {
        "id": "rIH_n_NK9l4c",
        "colab": {
          "base_uri": "https://localhost:8080/"
        },
        "outputId": "a83fb95b-62cc-4442-82f7-84d058e2dbd9"
      },
      "execution_count": null,
      "outputs": [
        {
          "output_type": "stream",
          "name": "stdout",
          "text": [
            "The ML-augmented IV causal effect of pre-trial detention on conviction is 1.136\n"
          ]
        }
      ]
    }
  ]
}